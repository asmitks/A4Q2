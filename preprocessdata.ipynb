{
 "metadata": {
  "language_info": {
   "codemirror_mode": {
    "name": "ipython",
    "version": 3
   },
   "file_extension": ".py",
   "mimetype": "text/x-python",
   "name": "python",
   "nbconvert_exporter": "python",
   "pygments_lexer": "ipython3",
   "version": "3.9.1"
  },
  "orig_nbformat": 2,
  "kernelspec": {
   "name": "python391jvsc74a57bd02e0504d1e0672b722420f958a0fa170aaa1bea2dbf140f2bc14ab03a6f0444d0",
   "display_name": "Python 3.9.1 64-bit ('analysis': conda)"
  },
  "metadata": {
   "interpreter": {
    "hash": "2e0504d1e0672b722420f958a0fa170aaa1bea2dbf140f2bc14ab03a6f0444d0"
   }
  }
 },
 "nbformat": 4,
 "nbformat_minor": 2,
 "cells": [
  {
   "cell_type": "code",
   "execution_count": 48,
   "metadata": {},
   "outputs": [],
   "source": [
    "import pandas as pandas\n",
    "import numpy as np\n",
    "import ast\n",
    "from collections import Counter, OrderedDict"
   ]
  },
  {
   "cell_type": "code",
   "execution_count": 51,
   "metadata": {},
   "outputs": [],
   "source": [
    "df = pandas.read_csv('data.csv')"
   ]
  },
  {
   "cell_type": "code",
   "execution_count": 52,
   "metadata": {},
   "outputs": [],
   "source": [
    "def keep(row):\n",
    "    if len(ast.literal_eval(row['aspect']))== 0:\n",
    "        return 0\n",
    "    return 1\n",
    "df['keep'] = df.apply(keep, axis = 1)"
   ]
  },
  {
   "cell_type": "code",
   "execution_count": 53,
   "metadata": {},
   "outputs": [],
   "source": [
    "def conflict(row):\n",
    "    if 'conflict' in row['aspect']:\n",
    "        return -1\n",
    "    return 0\n",
    "df['conflict'] = df.apply(conflict,axis = 1)"
   ]
  },
  {
   "cell_type": "code",
   "execution_count": 54,
   "metadata": {},
   "outputs": [],
   "source": [
    "df = df[df['keep']==1]\n",
    "df = df[df['conflict']!=-1]\n"
   ]
  },
  {
   "cell_type": "code",
   "execution_count": 55,
   "metadata": {},
   "outputs": [
    {
     "output_type": "execute_result",
     "data": {
      "text/plain": [
       "(4391, 7)"
      ]
     },
     "metadata": {},
     "execution_count": 55
    }
   ],
   "source": [
    "df.shape"
   ]
  },
  {
   "cell_type": "code",
   "execution_count": 56,
   "metadata": {},
   "outputs": [],
   "source": [
    "def textl(row):\n",
    "    return row['text'].lower()\n",
    "def aspectl(row):\n",
    "    return row['aspect'].lower()\n",
    "\n",
    "df['text']=df.apply(textl,axis = 1)\n",
    "df['aspect']=df.apply(aspectl,axis = 1)\n"
   ]
  },
  {
   "cell_type": "code",
   "execution_count": 57,
   "metadata": {},
   "outputs": [
    {
     "output_type": "execute_result",
     "data": {
      "text/plain": [
       "Counter({'laptop': 1859, 'restaurant': 2532})"
      ]
     },
     "metadata": {},
     "execution_count": 57
    }
   ],
   "source": [
    "Counter(df.topic.to_list())"
   ]
  },
  {
   "cell_type": "code",
   "execution_count": 59,
   "metadata": {},
   "outputs": [
    {
     "output_type": "execute_result",
     "data": {
      "text/plain": [
       "      Unnamed: 0                                               text  \\\n",
       "0              0  i charge it at night and skip taking the cord ...   \n",
       "2              2  the tech guy then said the service center does...   \n",
       "5              5  it is of high quality, has a killer gui, is ex...   \n",
       "6              6  easy to start up and does not overheat as much...   \n",
       "8              8  i even got my teenage son one, because of the ...   \n",
       "...          ...                                                ...   \n",
       "7687        7687                        anyway, the owner was fake.   \n",
       "7688        7688                owner is pleasant and entertaining.   \n",
       "7689        7689  i have never in my life sent back food before,...   \n",
       "7690        7690  although the restaurant itself is nice, i pref...   \n",
       "7691        7691  creamy appetizers--taramasalata, eggplant sala...   \n",
       "\n",
       "                                                 aspect       topic   type  \\\n",
       "0       {'cord': 'neutral', 'battery life': 'positive'}      laptop  train   \n",
       "2     {'service center': 'negative', '\"sales\" team':...      laptop  train   \n",
       "5     {'quality': 'positive', 'gui': 'positive', 'ap...      laptop  train   \n",
       "6                              {'start up': 'positive'}      laptop  train   \n",
       "8     {'features': 'positive', 'ichat': 'positive', ...      laptop  train   \n",
       "...                                                 ...         ...    ...   \n",
       "7687                              {'owner': 'negative'}  restaurant   test   \n",
       "7688                              {'owner': 'positive'}  restaurant   test   \n",
       "7689         {'food': 'negative', 'waiter': 'negative'}  restaurant   test   \n",
       "7690                               {'food': 'negative'}  restaurant   test   \n",
       "7691  {'creamy appetizers': 'positive', 'warm pitas'...  restaurant   test   \n",
       "\n",
       "      keep  conflict  \n",
       "0        1         0  \n",
       "2        1         0  \n",
       "5        1         0  \n",
       "6        1         0  \n",
       "8        1         0  \n",
       "...    ...       ...  \n",
       "7687     1         0  \n",
       "7688     1         0  \n",
       "7689     1         0  \n",
       "7690     1         0  \n",
       "7691     1         0  \n",
       "\n",
       "[4391 rows x 7 columns]"
      ],
      "text/html": "<div>\n<style scoped>\n    .dataframe tbody tr th:only-of-type {\n        vertical-align: middle;\n    }\n\n    .dataframe tbody tr th {\n        vertical-align: top;\n    }\n\n    .dataframe thead th {\n        text-align: right;\n    }\n</style>\n<table border=\"1\" class=\"dataframe\">\n  <thead>\n    <tr style=\"text-align: right;\">\n      <th></th>\n      <th>Unnamed: 0</th>\n      <th>text</th>\n      <th>aspect</th>\n      <th>topic</th>\n      <th>type</th>\n      <th>keep</th>\n      <th>conflict</th>\n    </tr>\n  </thead>\n  <tbody>\n    <tr>\n      <th>0</th>\n      <td>0</td>\n      <td>i charge it at night and skip taking the cord ...</td>\n      <td>{'cord': 'neutral', 'battery life': 'positive'}</td>\n      <td>laptop</td>\n      <td>train</td>\n      <td>1</td>\n      <td>0</td>\n    </tr>\n    <tr>\n      <th>2</th>\n      <td>2</td>\n      <td>the tech guy then said the service center does...</td>\n      <td>{'service center': 'negative', '\"sales\" team':...</td>\n      <td>laptop</td>\n      <td>train</td>\n      <td>1</td>\n      <td>0</td>\n    </tr>\n    <tr>\n      <th>5</th>\n      <td>5</td>\n      <td>it is of high quality, has a killer gui, is ex...</td>\n      <td>{'quality': 'positive', 'gui': 'positive', 'ap...</td>\n      <td>laptop</td>\n      <td>train</td>\n      <td>1</td>\n      <td>0</td>\n    </tr>\n    <tr>\n      <th>6</th>\n      <td>6</td>\n      <td>easy to start up and does not overheat as much...</td>\n      <td>{'start up': 'positive'}</td>\n      <td>laptop</td>\n      <td>train</td>\n      <td>1</td>\n      <td>0</td>\n    </tr>\n    <tr>\n      <th>8</th>\n      <td>8</td>\n      <td>i even got my teenage son one, because of the ...</td>\n      <td>{'features': 'positive', 'ichat': 'positive', ...</td>\n      <td>laptop</td>\n      <td>train</td>\n      <td>1</td>\n      <td>0</td>\n    </tr>\n    <tr>\n      <th>...</th>\n      <td>...</td>\n      <td>...</td>\n      <td>...</td>\n      <td>...</td>\n      <td>...</td>\n      <td>...</td>\n      <td>...</td>\n    </tr>\n    <tr>\n      <th>7687</th>\n      <td>7687</td>\n      <td>anyway, the owner was fake.</td>\n      <td>{'owner': 'negative'}</td>\n      <td>restaurant</td>\n      <td>test</td>\n      <td>1</td>\n      <td>0</td>\n    </tr>\n    <tr>\n      <th>7688</th>\n      <td>7688</td>\n      <td>owner is pleasant and entertaining.</td>\n      <td>{'owner': 'positive'}</td>\n      <td>restaurant</td>\n      <td>test</td>\n      <td>1</td>\n      <td>0</td>\n    </tr>\n    <tr>\n      <th>7689</th>\n      <td>7689</td>\n      <td>i have never in my life sent back food before,...</td>\n      <td>{'food': 'negative', 'waiter': 'negative'}</td>\n      <td>restaurant</td>\n      <td>test</td>\n      <td>1</td>\n      <td>0</td>\n    </tr>\n    <tr>\n      <th>7690</th>\n      <td>7690</td>\n      <td>although the restaurant itself is nice, i pref...</td>\n      <td>{'food': 'negative'}</td>\n      <td>restaurant</td>\n      <td>test</td>\n      <td>1</td>\n      <td>0</td>\n    </tr>\n    <tr>\n      <th>7691</th>\n      <td>7691</td>\n      <td>creamy appetizers--taramasalata, eggplant sala...</td>\n      <td>{'creamy appetizers': 'positive', 'warm pitas'...</td>\n      <td>restaurant</td>\n      <td>test</td>\n      <td>1</td>\n      <td>0</td>\n    </tr>\n  </tbody>\n</table>\n<p>4391 rows × 7 columns</p>\n</div>"
     },
     "metadata": {},
     "execution_count": 59
    }
   ],
   "source": [
    "df"
   ]
  },
  {
   "cell_type": "code",
   "execution_count": 60,
   "metadata": {},
   "outputs": [],
   "source": [
    "from nltk.tokenize import word_tokenize"
   ]
  },
  {
   "cell_type": "code",
   "execution_count": 61,
   "metadata": {},
   "outputs": [],
   "source": [
    "def tokens(row):\n",
    "    return word_tokenize(row['text'])"
   ]
  },
  {
   "cell_type": "code",
   "execution_count": 62,
   "metadata": {},
   "outputs": [],
   "source": [
    "df['tokens'] = df.apply(tokens,axis = 1)"
   ]
  },
  {
   "cell_type": "code",
   "execution_count": 64,
   "metadata": {},
   "outputs": [],
   "source": [
    "all_tokens = df.tokens.to_list()"
   ]
  },
  {
   "cell_type": "code",
   "execution_count": 65,
   "metadata": {},
   "outputs": [],
   "source": [
    "word_id={}"
   ]
  },
  {
   "cell_type": "code",
   "execution_count": 68,
   "metadata": {},
   "outputs": [],
   "source": [
    "for sent in all_tokens:\n",
    "    for token in sent:\n",
    "        if ' ' not in token and '\\n' not in token and token not in word_id:\n",
    "            word_id[token]=len(word_id)"
   ]
  },
  {
   "cell_type": "code",
   "execution_count": 70,
   "metadata": {},
   "outputs": [],
   "source": [
    "df.to_csv('data.csv')"
   ]
  },
  {
   "cell_type": "code",
   "execution_count": null,
   "metadata": {},
   "outputs": [],
   "source": []
  },
  {
   "cell_type": "code",
   "execution_count": 71,
   "metadata": {},
   "outputs": [],
   "source": [
    "train = df[df['type']=='train']\n",
    "test = df[df['type']=='test']\n"
   ]
  },
  {
   "cell_type": "code",
   "execution_count": 72,
   "metadata": {},
   "outputs": [],
   "source": [
    "train.to_csv('train.csv')\n",
    "test.to_csv('train.csv')\n"
   ]
  },
  {
   "cell_type": "code",
   "execution_count": 73,
   "metadata": {},
   "outputs": [
    {
     "output_type": "execute_result",
     "data": {
      "text/plain": [
       "      Unnamed: 0                                               text  \\\n",
       "0              0  i charge it at night and skip taking the cord ...   \n",
       "2              2  the tech guy then said the service center does...   \n",
       "5              5  it is of high quality, has a killer gui, is ex...   \n",
       "6              6  easy to start up and does not overheat as much...   \n",
       "8              8  i even got my teenage son one, because of the ...   \n",
       "...          ...                                                ...   \n",
       "7687        7687                        anyway, the owner was fake.   \n",
       "7688        7688                owner is pleasant and entertaining.   \n",
       "7689        7689  i have never in my life sent back food before,...   \n",
       "7690        7690  although the restaurant itself is nice, i pref...   \n",
       "7691        7691  creamy appetizers--taramasalata, eggplant sala...   \n",
       "\n",
       "                                                 aspect       topic   type  \\\n",
       "0       {'cord': 'neutral', 'battery life': 'positive'}      laptop  train   \n",
       "2     {'service center': 'negative', '\"sales\" team':...      laptop  train   \n",
       "5     {'quality': 'positive', 'gui': 'positive', 'ap...      laptop  train   \n",
       "6                              {'start up': 'positive'}      laptop  train   \n",
       "8     {'features': 'positive', 'ichat': 'positive', ...      laptop  train   \n",
       "...                                                 ...         ...    ...   \n",
       "7687                              {'owner': 'negative'}  restaurant   test   \n",
       "7688                              {'owner': 'positive'}  restaurant   test   \n",
       "7689         {'food': 'negative', 'waiter': 'negative'}  restaurant   test   \n",
       "7690                               {'food': 'negative'}  restaurant   test   \n",
       "7691  {'creamy appetizers': 'positive', 'warm pitas'...  restaurant   test   \n",
       "\n",
       "      keep  conflict                                             tokens  \n",
       "0        1         0  [i, charge, it, at, night, and, skip, taking, ...  \n",
       "2        1         0  [the, tech, guy, then, said, the, service, cen...  \n",
       "5        1         0  [it, is, of, high, quality, ,, has, a, killer,...  \n",
       "6        1         0  [easy, to, start, up, and, does, not, overheat...  \n",
       "8        1         0  [i, even, got, my, teenage, son, one, ,, becau...  \n",
       "...    ...       ...                                                ...  \n",
       "7687     1         0              [anyway, ,, the, owner, was, fake, .]  \n",
       "7688     1         0        [owner, is, pleasant, and, entertaining, .]  \n",
       "7689     1         0  [i, have, never, in, my, life, sent, back, foo...  \n",
       "7690     1         0  [although, the, restaurant, itself, is, nice, ...  \n",
       "7691     1         0  [creamy, appetizers, --, taramasalata, ,, eggp...  \n",
       "\n",
       "[4391 rows x 8 columns]"
      ],
      "text/html": "<div>\n<style scoped>\n    .dataframe tbody tr th:only-of-type {\n        vertical-align: middle;\n    }\n\n    .dataframe tbody tr th {\n        vertical-align: top;\n    }\n\n    .dataframe thead th {\n        text-align: right;\n    }\n</style>\n<table border=\"1\" class=\"dataframe\">\n  <thead>\n    <tr style=\"text-align: right;\">\n      <th></th>\n      <th>Unnamed: 0</th>\n      <th>text</th>\n      <th>aspect</th>\n      <th>topic</th>\n      <th>type</th>\n      <th>keep</th>\n      <th>conflict</th>\n      <th>tokens</th>\n    </tr>\n  </thead>\n  <tbody>\n    <tr>\n      <th>0</th>\n      <td>0</td>\n      <td>i charge it at night and skip taking the cord ...</td>\n      <td>{'cord': 'neutral', 'battery life': 'positive'}</td>\n      <td>laptop</td>\n      <td>train</td>\n      <td>1</td>\n      <td>0</td>\n      <td>[i, charge, it, at, night, and, skip, taking, ...</td>\n    </tr>\n    <tr>\n      <th>2</th>\n      <td>2</td>\n      <td>the tech guy then said the service center does...</td>\n      <td>{'service center': 'negative', '\"sales\" team':...</td>\n      <td>laptop</td>\n      <td>train</td>\n      <td>1</td>\n      <td>0</td>\n      <td>[the, tech, guy, then, said, the, service, cen...</td>\n    </tr>\n    <tr>\n      <th>5</th>\n      <td>5</td>\n      <td>it is of high quality, has a killer gui, is ex...</td>\n      <td>{'quality': 'positive', 'gui': 'positive', 'ap...</td>\n      <td>laptop</td>\n      <td>train</td>\n      <td>1</td>\n      <td>0</td>\n      <td>[it, is, of, high, quality, ,, has, a, killer,...</td>\n    </tr>\n    <tr>\n      <th>6</th>\n      <td>6</td>\n      <td>easy to start up and does not overheat as much...</td>\n      <td>{'start up': 'positive'}</td>\n      <td>laptop</td>\n      <td>train</td>\n      <td>1</td>\n      <td>0</td>\n      <td>[easy, to, start, up, and, does, not, overheat...</td>\n    </tr>\n    <tr>\n      <th>8</th>\n      <td>8</td>\n      <td>i even got my teenage son one, because of the ...</td>\n      <td>{'features': 'positive', 'ichat': 'positive', ...</td>\n      <td>laptop</td>\n      <td>train</td>\n      <td>1</td>\n      <td>0</td>\n      <td>[i, even, got, my, teenage, son, one, ,, becau...</td>\n    </tr>\n    <tr>\n      <th>...</th>\n      <td>...</td>\n      <td>...</td>\n      <td>...</td>\n      <td>...</td>\n      <td>...</td>\n      <td>...</td>\n      <td>...</td>\n      <td>...</td>\n    </tr>\n    <tr>\n      <th>7687</th>\n      <td>7687</td>\n      <td>anyway, the owner was fake.</td>\n      <td>{'owner': 'negative'}</td>\n      <td>restaurant</td>\n      <td>test</td>\n      <td>1</td>\n      <td>0</td>\n      <td>[anyway, ,, the, owner, was, fake, .]</td>\n    </tr>\n    <tr>\n      <th>7688</th>\n      <td>7688</td>\n      <td>owner is pleasant and entertaining.</td>\n      <td>{'owner': 'positive'}</td>\n      <td>restaurant</td>\n      <td>test</td>\n      <td>1</td>\n      <td>0</td>\n      <td>[owner, is, pleasant, and, entertaining, .]</td>\n    </tr>\n    <tr>\n      <th>7689</th>\n      <td>7689</td>\n      <td>i have never in my life sent back food before,...</td>\n      <td>{'food': 'negative', 'waiter': 'negative'}</td>\n      <td>restaurant</td>\n      <td>test</td>\n      <td>1</td>\n      <td>0</td>\n      <td>[i, have, never, in, my, life, sent, back, foo...</td>\n    </tr>\n    <tr>\n      <th>7690</th>\n      <td>7690</td>\n      <td>although the restaurant itself is nice, i pref...</td>\n      <td>{'food': 'negative'}</td>\n      <td>restaurant</td>\n      <td>test</td>\n      <td>1</td>\n      <td>0</td>\n      <td>[although, the, restaurant, itself, is, nice, ...</td>\n    </tr>\n    <tr>\n      <th>7691</th>\n      <td>7691</td>\n      <td>creamy appetizers--taramasalata, eggplant sala...</td>\n      <td>{'creamy appetizers': 'positive', 'warm pitas'...</td>\n      <td>restaurant</td>\n      <td>test</td>\n      <td>1</td>\n      <td>0</td>\n      <td>[creamy, appetizers, --, taramasalata, ,, eggp...</td>\n    </tr>\n  </tbody>\n</table>\n<p>4391 rows × 8 columns</p>\n</div>"
     },
     "metadata": {},
     "execution_count": 73
    }
   ],
   "source": [
    "final_dics = []\n",
    "for index,row in df,iterrows():\n",
    "    aspectdict = ast.literal_eval(row['aspect'])\n",
    "    for i in aspectdict:\n",
    "        curr_dic = {'tokens':row['tokens'],'topic':row['topic'], 'type': row['type'] }\n",
    "        final_dics"
   ]
  },
  {
   "cell_type": "code",
   "execution_count": null,
   "metadata": {},
   "outputs": [],
   "source": []
  }
 ]
}